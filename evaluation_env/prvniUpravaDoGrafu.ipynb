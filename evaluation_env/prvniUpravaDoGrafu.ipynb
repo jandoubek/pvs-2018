{
 "cells": [
  {
   "cell_type": "code",
   "execution_count": 1,
   "metadata": {
    "collapsed": true
   },
   "outputs": [],
   "source": [
    "import networkx as nx"
   ]
  },
  {
   "cell_type": "code",
   "execution_count": 12,
   "metadata": {},
   "outputs": [],
   "source": [
    "with open('evaluation_env/data_generator/example_data.json') as f:\n",
    "    data = eval(f.read())"
   ]
  },
  {
   "cell_type": "code",
   "execution_count": 14,
   "metadata": {},
   "outputs": [
    {
     "data": {
      "text/plain": [
       "list"
      ]
     },
     "execution_count": 14,
     "metadata": {},
     "output_type": "execute_result"
    }
   ],
   "source": [
    "type(data)"
   ]
  },
  {
   "cell_type": "code",
   "execution_count": 25,
   "metadata": {
    "collapsed": false
   },
   "outputs": [],
   "source": [
    "env_graph = nx.Graph()\n",
    "taste_graph = nx.Graph()\n",
    "graphs = [env_graph, taste_graph]\n",
    "params = ['environment', 'taste']\n",
    "customers = set()\n",
    "coffees = set()\n",
    "def checkNode(node, _set, _type, graphs):\n",
    "    if not node in _set:\n",
    "        _set.add(node)\n",
    "        for G in graphs: G.add_node(node, type=_type)\n",
    "    return node\n",
    "def add_edges(_from, _to, rating, graphs, params):\n",
    "    for G, param in zip(graphs, params):\n",
    "        G.add_edge(_from, _to, weight=rating[param])\n",
    "for rating in data:\n",
    "    customer = checkNode(rating['customer'], customers, 0, graphs)\n",
    "    coffee = checkNode(rating['coffee'], coffees, 1, graphs)\n",
    "    add_edges(customer, coffee, rating['rating'], graphs, params)"
   ]
  },
  {
   "cell_type": "code",
   "execution_count": 26,
   "metadata": {},
   "outputs": [
    {
     "name": "stdout",
     "output_type": "stream",
     "text": [
      "750 750\n65 65\n"
     ]
    }
   ],
   "source": [
    "print(len(env_graph.edges), len(taste_graph.edges))\n",
    "print(len(env_graph.nodes), len(taste_graph.nodes))"
   ]
  },
  {
   "cell_type": "code",
   "execution_count": 27,
   "metadata": {},
   "outputs": [],
   "source": [
    "for G, param in zip(graphs, params):\n",
    "    nx.write_gexf(G, 'graph_{}.gexf'.format(param))"
   ]
  },
  {
   "cell_type": "code",
   "execution_count": null,
   "metadata": {},
   "outputs": [],
   "source": []
  }
 ],
 "metadata": {
  "kernelspec": {
   "display_name": "Python 2",
   "language": "python",
   "name": "python2"
  },
  "language_info": {
   "codemirror_mode": {
    "name": "ipython",
    "version": 2
   },
   "file_extension": ".py",
   "mimetype": "text/x-python",
   "name": "python",
   "nbconvert_exporter": "python",
   "pygments_lexer": "ipython2",
   "version": "2.7.6"
  }
 },
 "nbformat": 4,
 "nbformat_minor": 0
}
